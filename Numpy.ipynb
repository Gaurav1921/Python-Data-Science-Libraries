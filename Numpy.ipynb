{
 "cells": [
  {
   "cell_type": "markdown",
   "id": "0cf93103",
   "metadata": {},
   "source": [
    "### Numpy Intro"
   ]
  },
  {
   "cell_type": "markdown",
   "id": "19d7bad8",
   "metadata": {},
   "source": [
    "**NumPy** is a library written for scientific computing and data analysis. It stands for numerical python.\n",
    "\n",
    "The most basic object in NumPy is the ```array```, which is **homogenous** in nature. By homogenous, we mean that all the elements in a numpy array have to be of the **same data type**, which is commonly numeric (float or integer). \n",
    "\n",
    "**NumPy** is kind of a MATLAB replacement,  useful in **plotting** (Matplotlib), **Backend** (Pandas, Digital Photography), **Machine Learning**. **Tensors** are pretty connected to numpy library"
   ]
  },
  {
   "cell_type": "code",
   "execution_count": 58,
   "id": "9ca96c5d",
   "metadata": {},
   "outputs": [
    {
     "name": "stdout",
     "output_type": "stream",
     "text": [
      "[ 2 12 30]\n"
     ]
    }
   ],
   "source": [
    "import numpy as np\n",
    "a = np.array([1,3,5])      # we can multiply two numpy arrays but can not do the same in lists\n",
    "b = np.array([2,4,6])\n",
    "print(a*b)"
   ]
  },
  {
   "cell_type": "markdown",
   "id": "d197e082",
   "metadata": {},
   "source": [
    "### Load in Numpy (remember to pip install numpy first)"
   ]
  },
  {
   "cell_type": "code",
   "execution_count": 59,
   "id": "a3a7c634",
   "metadata": {},
   "outputs": [],
   "source": [
    "import numpy as np"
   ]
  },
  {
   "cell_type": "code",
   "execution_count": 60,
   "id": "84b46879",
   "metadata": {},
   "outputs": [
    {
     "name": "stdout",
     "output_type": "stream",
     "text": [
      "[1 2 3 4 5 6]\n"
     ]
    }
   ],
   "source": [
    "a = np.array([1,2,3,4,5,6])\n",
    "print(a)"
   ]
  },
  {
   "cell_type": "code",
   "execution_count": 61,
   "id": "7f4046c4",
   "metadata": {},
   "outputs": [
    {
     "name": "stdout",
     "output_type": "stream",
     "text": [
      "[[ 1  2  3  4]\n",
      " [ 4  2 33  3]]\n"
     ]
    }
   ],
   "source": [
    "b = np.array([[1,2,3,4], [4,2,33,3]])\n",
    "print(b)"
   ]
  },
  {
   "cell_type": "code",
   "execution_count": 62,
   "id": "173fc514",
   "metadata": {},
   "outputs": [
    {
     "name": "stdout",
     "output_type": "stream",
     "text": [
      "1\n",
      "2\n"
     ]
    }
   ],
   "source": [
    "# get dimension\n",
    "print(a.ndim)\n",
    "print(b.ndim)"
   ]
  },
  {
   "cell_type": "code",
   "execution_count": 63,
   "id": "fc571caa",
   "metadata": {},
   "outputs": [
    {
     "name": "stdout",
     "output_type": "stream",
     "text": [
      "(6,)\n",
      "(2, 4)\n"
     ]
    }
   ],
   "source": [
    "# get shape\n",
    "print(a.shape)  # will give us rows and columns (2D)\n",
    "print(b.shape)"
   ]
  },
  {
   "cell_type": "code",
   "execution_count": 64,
   "id": "39721d4e",
   "metadata": {},
   "outputs": [
    {
     "name": "stdout",
     "output_type": "stream",
     "text": [
      "int32\n",
      "int32\n"
     ]
    }
   ],
   "source": [
    "# get type\n",
    "print(a.dtype)    # 32 tell us about bits i.e. (1 byte = 8 bits)\n",
    "print(b.dtype)"
   ]
  },
  {
   "cell_type": "code",
   "execution_count": 65,
   "id": "ab11059b",
   "metadata": {},
   "outputs": [
    {
     "name": "stdout",
     "output_type": "stream",
     "text": [
      "4\n",
      "4\n",
      "6\n",
      "8\n"
     ]
    }
   ],
   "source": [
    "# get size\n",
    "print(a.itemsize)   # it will give us the answer in bytes\n",
    "print(b.itemsize)\n",
    "print(a.size)      # it will gives us the total no of elements in a\n",
    "print(b.size)"
   ]
  },
  {
   "cell_type": "code",
   "execution_count": 66,
   "id": "830d2824",
   "metadata": {},
   "outputs": [
    {
     "name": "stdout",
     "output_type": "stream",
     "text": [
      "24\n",
      "24\n"
     ]
    }
   ],
   "source": [
    "# to get the total size of a\n",
    "print(a.size * a.itemsize)   # or\n",
    "print(a.nbytes)"
   ]
  },
  {
   "cell_type": "markdown",
   "id": "d6d99479",
   "metadata": {},
   "source": [
    "### Accessing & Changing specific elements, rows, col, etc"
   ]
  },
  {
   "cell_type": "code",
   "execution_count": 67,
   "id": "173beb69",
   "metadata": {},
   "outputs": [
    {
     "name": "stdout",
     "output_type": "stream",
     "text": [
      "[[ 1  2  3  4  5  6]\n",
      " [ 7  8  9 10 11 12]]\n"
     ]
    }
   ],
   "source": [
    "a = np.array([[1,2,3,4,5,6],[7,8,9,10,11,12]])\n",
    "print(a)"
   ]
  },
  {
   "cell_type": "code",
   "execution_count": 68,
   "id": "354d8119",
   "metadata": {},
   "outputs": [
    {
     "name": "stdout",
     "output_type": "stream",
     "text": [
      "11\n",
      "11\n"
     ]
    }
   ],
   "source": [
    "# get a specific element [row,col]\n",
    "print(a[1,4])           # indexing starts from 0 so for 2nd row and 5th coloumn we write a[1,4]\n",
    "print(a[1,-2])"
   ]
  },
  {
   "cell_type": "code",
   "execution_count": 69,
   "id": "41dc4c2a",
   "metadata": {},
   "outputs": [
    {
     "name": "stdout",
     "output_type": "stream",
     "text": [
      "[1 2 3 4 5 6]\n",
      "[3 9]\n"
     ]
    }
   ],
   "source": [
    "# get a specific row\n",
    "print(a[0,:])        # to get the whole 1st row\n",
    "print(a[:,2])        # to get the whole 3rd coloumn"
   ]
  },
  {
   "cell_type": "code",
   "execution_count": 70,
   "id": "b0000df3",
   "metadata": {},
   "outputs": [
    {
     "name": "stdout",
     "output_type": "stream",
     "text": [
      "[ 8 10 12]\n"
     ]
    }
   ],
   "source": [
    "# getting a little more fancy [startindex:endindex:stepsize]\n",
    "print(a[1,1:6:2])      # taking out the 1st row and from coloumn 2 to 7 with alternate nos"
   ]
  },
  {
   "cell_type": "code",
   "execution_count": 71,
   "id": "04d067c9",
   "metadata": {},
   "outputs": [
    {
     "name": "stdout",
     "output_type": "stream",
     "text": [
      "[[ 1  2  3  4  5  6]\n",
      " [ 7  8  9 10 11 20]]\n",
      "[[ 1  2  3  5  5  6]\n",
      " [ 7  8  9  5 11 20]]\n"
     ]
    }
   ],
   "source": [
    "a[1,5] = 20     # redefining element possible as it is mutable (row 2nd coloumn 6th)\n",
    "print(a)\n",
    "a[:,3] = 5\n",
    "print(a)"
   ]
  },
  {
   "cell_type": "code",
   "execution_count": 72,
   "id": "7726ba19",
   "metadata": {},
   "outputs": [
    {
     "name": "stdout",
     "output_type": "stream",
     "text": [
      "[[[1 2]\n",
      "  [3 4]]\n",
      "\n",
      " [[5 6]\n",
      "  [7 8]]]\n"
     ]
    }
   ],
   "source": [
    "# 3d example\n",
    "b = np.array([[[1,2],[3,4]],[[5,6],[7,8]]])\n",
    "print(b)"
   ]
  },
  {
   "cell_type": "code",
   "execution_count": 73,
   "id": "04efaebb",
   "metadata": {},
   "outputs": [
    {
     "name": "stdout",
     "output_type": "stream",
     "text": [
      "4\n"
     ]
    }
   ],
   "source": [
    "print(b[0,1,1])      # going in 1st set and then from [[1,2],[3,4]] we want 2nd row and from [3,4] we want 2nd element"
   ]
  },
  {
   "cell_type": "markdown",
   "id": "256d46b5",
   "metadata": {},
   "source": [
    "### Initializing differents types of arrays"
   ]
  },
  {
   "cell_type": "code",
   "execution_count": 74,
   "id": "2d7ce184",
   "metadata": {},
   "outputs": [
    {
     "data": {
      "text/plain": [
       "array([[0., 0., 0.],\n",
       "       [0., 0., 0.]])"
      ]
     },
     "execution_count": 74,
     "metadata": {},
     "output_type": "execute_result"
    }
   ],
   "source": [
    "# all 0's matrix\n",
    "np.zeros((2,3))"
   ]
  },
  {
   "cell_type": "code",
   "execution_count": 75,
   "id": "bc5977dd",
   "metadata": {},
   "outputs": [
    {
     "data": {
      "text/plain": [
       "array([[[1, 1],\n",
       "        [1, 1]],\n",
       "\n",
       "       [[1, 1],\n",
       "        [1, 1]],\n",
       "\n",
       "       [[1, 1],\n",
       "        [1, 1]],\n",
       "\n",
       "       [[1, 1],\n",
       "        [1, 1]]])"
      ]
     },
     "execution_count": 75,
     "metadata": {},
     "output_type": "execute_result"
    }
   ],
   "source": [
    "# all 1's matrix\n",
    "np.ones((4,2,2), dtype='int32')         # dtype converts float to int or vice versa"
   ]
  },
  {
   "cell_type": "code",
   "execution_count": 76,
   "id": "4c548881",
   "metadata": {},
   "outputs": [
    {
     "data": {
      "text/plain": [
       "array([[99, 99],\n",
       "       [99, 99]])"
      ]
     },
     "execution_count": 76,
     "metadata": {},
     "output_type": "execute_result"
    }
   ],
   "source": [
    "# any other number\n",
    "np.full((2,2),99)            # 2 rows and 3 coloumns with custom no"
   ]
  },
  {
   "cell_type": "code",
   "execution_count": 77,
   "id": "e05c7cce",
   "metadata": {},
   "outputs": [
    {
     "name": "stdout",
     "output_type": "stream",
     "text": [
      "[[4 4 4 4 4 4]\n",
      " [4 4 4 4 4 4]]\n",
      "[[6 6 6 6 6 6]\n",
      " [6 6 6 6 6 6]]\n"
     ]
    }
   ],
   "source": [
    "# full_like method which helps us to take shape that has already been built\n",
    "print(np.full_like(a,4))\n",
    "print(np.full(a.shape,6))"
   ]
  },
  {
   "cell_type": "code",
   "execution_count": 78,
   "id": "2a47e228",
   "metadata": {},
   "outputs": [
    {
     "name": "stdout",
     "output_type": "stream",
     "text": [
      "[[0.4023462  0.06984653]\n",
      " [0.55886224 0.37103125]\n",
      " [0.98257172 0.45356761]\n",
      " [0.80667055 0.17039755]]\n",
      "[[0.30893545 0.25220788 0.28159313 0.07869157 0.3460003  0.34257757]\n",
      " [0.33186538 0.42137399 0.43924209 0.64600941 0.73090074 0.87261007]]\n"
     ]
    }
   ],
   "source": [
    "# random decimal numbers\n",
    "print(np.random.rand(4,2))    # or\n",
    "print(np.random.random_sample(a.shape))"
   ]
  },
  {
   "cell_type": "code",
   "execution_count": 79,
   "id": "dbd4cdd6",
   "metadata": {},
   "outputs": [
    {
     "data": {
      "text/plain": [
       "array([[ 7, -5, -2],\n",
       "       [ 5,  3,  6],\n",
       "       [ 8, -3,  7]])"
      ]
     },
     "execution_count": 79,
     "metadata": {},
     "output_type": "execute_result"
    }
   ],
   "source": [
    "# random iinteger values\n",
    "np.random.randint(-7,9, size=(3,3))            # between -7 and 9 we can have values in the matrix"
   ]
  },
  {
   "cell_type": "code",
   "execution_count": 80,
   "id": "c53c0acb",
   "metadata": {},
   "outputs": [
    {
     "data": {
      "text/plain": [
       "array([[1, 0, 0, 0, 0],\n",
       "       [0, 1, 0, 0, 0],\n",
       "       [0, 0, 1, 0, 0],\n",
       "       [0, 0, 0, 1, 0],\n",
       "       [0, 0, 0, 0, 1]])"
      ]
     },
     "execution_count": 80,
     "metadata": {},
     "output_type": "execute_result"
    }
   ],
   "source": [
    "# identity matrix     ( so it will have to be square matrix - equal row and coloumn)\n",
    "np.identity(5, dtype='int32')"
   ]
  },
  {
   "cell_type": "code",
   "execution_count": 81,
   "id": "972299d4",
   "metadata": {},
   "outputs": [
    {
     "name": "stdout",
     "output_type": "stream",
     "text": [
      "[[1 2 3]\n",
      " [1 2 3]\n",
      " [1 2 3]]\n"
     ]
    }
   ],
   "source": [
    "# Repeat an array\n",
    "arr = np.array([[1,2,3]])\n",
    "r1 = np.repeat(arr,3,axis=0)        # to repeat it 3 times\n",
    "print(r1)"
   ]
  },
  {
   "cell_type": "code",
   "execution_count": 82,
   "id": "4d2a08dd",
   "metadata": {},
   "outputs": [
    {
     "name": "stdout",
     "output_type": "stream",
     "text": [
      "[[1 1 1 1 1]\n",
      " [1 1 1 1 1]\n",
      " [1 1 1 1 1]\n",
      " [1 1 1 1 1]\n",
      " [1 1 1 1 1]]\n",
      "[[0 0 0]\n",
      " [0 9 0]\n",
      " [0 0 0]]\n",
      "[[1 1 1 1 1]\n",
      " [1 0 0 0 1]\n",
      " [1 0 9 0 1]\n",
      " [1 0 0 0 1]\n",
      " [1 1 1 1 1]]\n"
     ]
    }
   ],
   "source": [
    "first_step = np.ones((5,5), dtype='int32')\n",
    "print(first_step)\n",
    "\n",
    "second_step = np.zeros((3,3),dtype='int32')\n",
    "second_step[1,1] = 9      # 2nd row & 2nd col\n",
    "print(second_step)\n",
    "\n",
    "first_step[1:4,1:4] = second_step    # replacing from 2nd to 5th row & 2nd to 5th col \n",
    "print(first_step)"
   ]
  },
  {
   "cell_type": "markdown",
   "id": "5c966e24",
   "metadata": {},
   "source": [
    "### While copying any array be careful"
   ]
  },
  {
   "cell_type": "code",
   "execution_count": 83,
   "id": "98d2aaed",
   "metadata": {},
   "outputs": [
    {
     "name": "stdout",
     "output_type": "stream",
     "text": [
      "[1 2 3]\n",
      "[100   2   3]\n"
     ]
    }
   ],
   "source": [
    "# use copy method and dont use directly b = a\n",
    "a = np.array([1,2,3])        \n",
    "b = a.copy()\n",
    "b[0] = 100\n",
    "print(a)\n",
    "print(b)"
   ]
  },
  {
   "cell_type": "markdown",
   "id": "684cb515",
   "metadata": {},
   "source": [
    "## Mathematics"
   ]
  },
  {
   "cell_type": "code",
   "execution_count": 84,
   "id": "da663941",
   "metadata": {},
   "outputs": [
    {
     "name": "stdout",
     "output_type": "stream",
     "text": [
      "[3 4 5 6] [2 4 6 8] [0.5 1.  1.5 2. ] [ 1  4  9 16]\n"
     ]
    }
   ],
   "source": [
    "a = np.array([1,2,3,4])\n",
    "print(a+2, a*2, a/2, a**2)"
   ]
  },
  {
   "cell_type": "code",
   "execution_count": 85,
   "id": "1003ca4a",
   "metadata": {},
   "outputs": [
    {
     "name": "stdout",
     "output_type": "stream",
     "text": [
      "[1 3 3 5]\n"
     ]
    }
   ],
   "source": [
    "b = np.array([0,1,0,1])\n",
    "print(a+b)"
   ]
  },
  {
   "cell_type": "code",
   "execution_count": 86,
   "id": "b3961fd6",
   "metadata": {},
   "outputs": [
    {
     "name": "stdout",
     "output_type": "stream",
     "text": [
      "[ 0.54030231 -0.41614684 -0.9899925  -0.65364362]\n"
     ]
    }
   ],
   "source": [
    "# take the sin\n",
    "print(np.cos(a))"
   ]
  },
  {
   "cell_type": "markdown",
   "id": "541dbc21",
   "metadata": {},
   "source": [
    "### Linear Algebra"
   ]
  },
  {
   "cell_type": "code",
   "execution_count": 87,
   "id": "561b2811",
   "metadata": {},
   "outputs": [
    {
     "name": "stdout",
     "output_type": "stream",
     "text": [
      "[[6. 6.]\n",
      " [6. 6.]]\n"
     ]
    }
   ],
   "source": [
    "a = np.ones((2,3))\n",
    "b = np.full((3,2), 2)\n",
    "\n",
    "print(np.matmul(a,b))          # multiplying two matrix"
   ]
  },
  {
   "cell_type": "code",
   "execution_count": 88,
   "id": "06c71bf2",
   "metadata": {},
   "outputs": [
    {
     "name": "stdout",
     "output_type": "stream",
     "text": [
      "[[1. 0. 0.]\n",
      " [0. 1. 0.]\n",
      " [0. 0. 1.]]\n",
      "--------------\n",
      "1.0\n"
     ]
    }
   ],
   "source": [
    "c = np.identity(3)\n",
    "print(c)\n",
    "print('--------------')\n",
    "print(np.linalg.det(c))          # det of identity matrix is 1,   linalg means linear algebra"
   ]
  },
  {
   "cell_type": "code",
   "execution_count": 89,
   "id": "78e7e041",
   "metadata": {
    "scrolled": true
   },
   "outputs": [
    {
     "name": "stdout",
     "output_type": "stream",
     "text": [
      "3.0\n",
      "1.0\n",
      "1.7320508075688772\n",
      "[1. 1. 1.]\n",
      "[[1. 0. 0.]\n",
      " [0. 1. 0.]\n",
      " [0. 0. 1.]]\n"
     ]
    }
   ],
   "source": [
    "print(np.trace(c))          # returns the sum of diagonal elements\n",
    "print(np.linalg.det(c))     # returns the det of \n",
    "print(np.linalg.norm(c)) \n",
    "print(np.linalg.eigvals(c))        # returns the eigen value of matrix\n",
    "print(np.linalg.inv(c))     # returns the inverse of a matrix"
   ]
  },
  {
   "cell_type": "markdown",
   "id": "aad5665d",
   "metadata": {},
   "source": [
    "### Statistics"
   ]
  },
  {
   "cell_type": "code",
   "execution_count": 90,
   "id": "ce276dd0",
   "metadata": {},
   "outputs": [
    {
     "name": "stdout",
     "output_type": "stream",
     "text": [
      "1\n",
      "[1 4]\n"
     ]
    }
   ],
   "source": [
    "stats = np.array([[1,2,3],[4,5,6]])\n",
    "print(np.min(stats))\n",
    "print(np.min(stats, axis=1))             # axis means both arrays considered min of 1st array 1 and min of 2nd array 4"
   ]
  },
  {
   "cell_type": "code",
   "execution_count": 91,
   "id": "90360fca",
   "metadata": {},
   "outputs": [
    {
     "name": "stdout",
     "output_type": "stream",
     "text": [
      "21\n",
      "[5 7 9]\n",
      "[ 6 15]\n"
     ]
    }
   ],
   "source": [
    "print(np.sum(stats))\n",
    "print(np.sum(stats, axis=0))\n",
    "print(np.sum(stats, axis=1))"
   ]
  },
  {
   "cell_type": "markdown",
   "id": "117b6aae",
   "metadata": {},
   "source": [
    "### Reorganizing Arrays"
   ]
  },
  {
   "cell_type": "code",
   "execution_count": 92,
   "id": "23aca925",
   "metadata": {},
   "outputs": [
    {
     "name": "stdout",
     "output_type": "stream",
     "text": [
      "[[1 2 3 4]\n",
      " [5 6 7 8]]\n",
      "----------------\n",
      "(2, 4)\n",
      "----------------\n",
      "[[1]\n",
      " [2]\n",
      " [3]\n",
      " [4]\n",
      " [5]\n",
      " [6]\n",
      " [7]\n",
      " [8]]\n"
     ]
    }
   ],
   "source": [
    "before = np.array([[1,2,3,4], [5,6,7,8]])\n",
    "print(before)\n",
    "print('----------------')\n",
    "print(before.shape)\n",
    "print('----------------')\n",
    "after = before.reshape((8,1))    # row * col = no of elements in array (ofc)\n",
    "print(after)"
   ]
  },
  {
   "cell_type": "code",
   "execution_count": 93,
   "id": "f9bfc035",
   "metadata": {},
   "outputs": [
    {
     "name": "stdout",
     "output_type": "stream",
     "text": [
      "[[1 2 3 4]\n",
      " [5 6 7 8]\n",
      " [5 6 7 8]\n",
      " [5 6 7 8]]\n"
     ]
    }
   ],
   "source": [
    "# vertically stacking vectors\n",
    "v1 = np.array([1,2,3,4])\n",
    "v2 = np.array([5,6,7,8])\n",
    "\n",
    "print(np.vstack([v1,v2,v2,v2]))   # it simply helps combining/stacking two different arrays into one"
   ]
  },
  {
   "cell_type": "code",
   "execution_count": 94,
   "id": "2a9bbf39",
   "metadata": {},
   "outputs": [
    {
     "name": "stdout",
     "output_type": "stream",
     "text": [
      "[[1. 1. 1. 1.]\n",
      " [1. 1. 1. 1.]]\n",
      "-----------------------\n",
      "[[0. 0.]\n",
      " [0. 0.]]\n",
      "-----------------------\n",
      "[[1. 1. 1. 1. 0. 0.]\n",
      " [1. 1. 1. 1. 0. 0.]]\n"
     ]
    }
   ],
   "source": [
    "h1 = np.ones((2,4))\n",
    "print(h1)\n",
    "print('-----------------------')\n",
    "h2 = np.zeros((2,2))\n",
    "print(h2)\n",
    "print('-----------------------')\n",
    "\n",
    "print(np.hstack((h1,h2)))"
   ]
  },
  {
   "cell_type": "markdown",
   "id": "81ac4264",
   "metadata": {},
   "source": [
    "## Miscellaneous"
   ]
  },
  {
   "cell_type": "markdown",
   "id": "b538289c",
   "metadata": {},
   "source": [
    "### Load Data from File"
   ]
  },
  {
   "cell_type": "code",
   "execution_count": 95,
   "id": "516dc048",
   "metadata": {
    "scrolled": true
   },
   "outputs": [
    {
     "name": "stdout",
     "output_type": "stream",
     "text": [
      "[[0. 1.]\n",
      " [2. 3.]]\n",
      "[[0 1]\n",
      " [2 3]]\n"
     ]
    }
   ],
   "source": [
    "from io import StringIO   # StringIO behaves like a file object\n",
    "c = StringIO(\"0 1 \\n 2 3\")\n",
    "filename = np.genfromtxt(c)   # or np.loadtxt(c); main thing here to notice; it would load the data from file to here\n",
    "print(filename)\n",
    "print(filename.astype('int32'))    # it converts in whatever we want it to be but not permanent"
   ]
  },
  {
   "cell_type": "code",
   "execution_count": 96,
   "id": "efa2a1bb",
   "metadata": {},
   "outputs": [
    {
     "name": "stdout",
     "output_type": "stream",
     "text": [
      "[[0 1]\n",
      " [2 3]]\n"
     ]
    }
   ],
   "source": [
    "# if u want the above permanently then equate it with a variable name\n",
    "filedata = filename.astype('int32')\n",
    "print(filedata)"
   ]
  },
  {
   "cell_type": "markdown",
   "id": "ad5ec268",
   "metadata": {},
   "source": [
    "### Boolean Masking and Advanced Indexing"
   ]
  },
  {
   "cell_type": "code",
   "execution_count": 97,
   "id": "36aef9e8",
   "metadata": {},
   "outputs": [
    {
     "name": "stdout",
     "output_type": "stream",
     "text": [
      "[[False False]\n",
      " [ True  True]]\n",
      "-----------------\n",
      "[2 3]\n"
     ]
    }
   ],
   "source": [
    "print(filedata >= 2)\n",
    "print('-----------------')\n",
    "print(filedata[filedata >=2])     # will only grab the numbers which are true for the condition"
   ]
  },
  {
   "cell_type": "code",
   "execution_count": 98,
   "id": "14fcd140",
   "metadata": {},
   "outputs": [
    {
     "name": "stdout",
     "output_type": "stream",
     "text": [
      "[False  True]\n",
      "--------------\n",
      "[False  True]\n"
     ]
    }
   ],
   "source": [
    "print(np.any(filedata>=2, axis=1))      # axis = 0 means coloumn & axis = 1 means rows\n",
    "print('--------------')\n",
    "print(np.all(filedata>=2, axis=1))"
   ]
  },
  {
   "cell_type": "code",
   "execution_count": 99,
   "id": "eb7b51de",
   "metadata": {},
   "outputs": [
    {
     "name": "stdout",
     "output_type": "stream",
     "text": [
      "[2 3 4]\n"
     ]
    }
   ],
   "source": [
    "# you can index with a list in NumPy\n",
    "a = np.array([1,2,3,4,5,6,7,8])\n",
    "print(a[[1,2,3]])          # at position 2nd,3rd,4th we have 2,3,4 as indexing starts from 0"
   ]
  },
  {
   "cell_type": "code",
   "execution_count": 100,
   "id": "305aff02",
   "metadata": {},
   "outputs": [
    {
     "data": {
      "text/plain": [
       "array([[[0., 0., 0.],\n",
       "        [0., 0., 0.],\n",
       "        [0., 0., 0.]],\n",
       "\n",
       "       [[0., 0., 0.],\n",
       "        [0., 0., 0.],\n",
       "        [0., 0., 0.]],\n",
       "\n",
       "       [[0., 0., 0.],\n",
       "        [0., 0., 0.],\n",
       "        [0., 0., 0.]]])"
      ]
     },
     "execution_count": 100,
     "metadata": {},
     "output_type": "execute_result"
    }
   ],
   "source": [
    "np.zeros((3,3,3))"
   ]
  },
  {
   "cell_type": "code",
   "execution_count": null,
   "id": "cc068e4a",
   "metadata": {},
   "outputs": [],
   "source": []
  }
 ],
 "metadata": {
  "kernelspec": {
   "display_name": "Python 3 (ipykernel)",
   "language": "python",
   "name": "python3"
  },
  "language_info": {
   "codemirror_mode": {
    "name": "ipython",
    "version": 3
   },
   "file_extension": ".py",
   "mimetype": "text/x-python",
   "name": "python",
   "nbconvert_exporter": "python",
   "pygments_lexer": "ipython3",
   "version": "3.9.4"
  }
 },
 "nbformat": 4,
 "nbformat_minor": 5
}
